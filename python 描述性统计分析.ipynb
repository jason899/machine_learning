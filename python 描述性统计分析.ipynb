{
 "cells": [
  {
   "cell_type": "markdown",
   "metadata": {},
   "source": [
    "# 构建基础数据"
   ]
  },
  {
   "cell_type": "code",
   "execution_count": 78,
   "metadata": {
    "collapsed": true
   },
   "outputs": [],
   "source": [
    "import numpy as np\n",
    "from numpy.random import normal\n",
    "\n",
    "def genData():\n",
    "    heights = []\n",
    "    weights = []\n",
    "    grades = []\n",
    "    N = 10000\n",
    "\n",
    "    for i in range(N):\n",
    "        while True:\n",
    "            #身高服从均值172，标准差为6的正态分布\n",
    "            height = normal(172, 6)\n",
    "            if 0 < height: break\n",
    "        while True:\n",
    "            #体重由身高作为自变量的线性回归模型产生，误差服从标准正态分布\n",
    "            weight = (height - 80) * 0.7 + normal(0, 1)\n",
    "            if 0 < weight: break\n",
    "        while True:\n",
    "            #分数服从均值为70，标准差为15的正态分布\n",
    "            score = normal(70, 15)\n",
    "            if 0 <= score and score <= 100:\n",
    "                grade = 'E' if score < 60 else ('D' if score < 70 else ('C' if score < 80 else ('B' if score < 90 else 'A')))\n",
    "                break\n",
    "        heights.append(height)\n",
    "        weights.append(weight)\n",
    "        grades.append(grade)\n",
    "    return np.array(heights), np.array(weights), np.array(grades)\n",
    "\n",
    "heights, weights, grades = genData()"
   ]
  },
  {
   "cell_type": "markdown",
   "metadata": {},
   "source": [
    "# 数值分析"
   ]
  },
  {
   "cell_type": "markdown",
   "metadata": {},
   "source": [
    "## 中心位置：均值、中位数、众数"
   ]
  },
  {
   "cell_type": "code",
   "execution_count": 79,
   "metadata": {
    "collapsed": false
   },
   "outputs": [],
   "source": [
    "data = np.array([1,2,3,4,5,6,7,7])"
   ]
  },
  {
   "cell_type": "code",
   "execution_count": 80,
   "metadata": {
    "collapsed": false
   },
   "outputs": [
    {
     "data": {
      "text/plain": [
       "ModeResult(mode=array([7]), count=array([2]))"
      ]
     },
     "execution_count": 80,
     "metadata": {},
     "output_type": "execute_result"
    }
   ],
   "source": [
    "np.mean(data)\n",
    "np.median(data)\n",
    "# 众数\n",
    "from scipy.stats import mode\n",
    "mode(data)"
   ]
  },
  {
   "cell_type": "markdown",
   "metadata": {},
   "source": [
    "## 发散程度：方差、标准差、极差"
   ]
  },
  {
   "cell_type": "code",
   "execution_count": 81,
   "metadata": {
    "collapsed": false
   },
   "outputs": [
    {
     "data": {
      "text/plain": [
       "2.117634293262177"
      ]
     },
     "execution_count": 81,
     "metadata": {},
     "output_type": "execute_result"
    }
   ],
   "source": [
    "np.var(data)\n",
    "np.std(data)"
   ]
  },
  {
   "cell_type": "code",
   "execution_count": 82,
   "metadata": {
    "collapsed": false
   },
   "outputs": [
    {
     "data": {
      "text/plain": [
       "6"
      ]
     },
     "execution_count": 82,
     "metadata": {},
     "output_type": "execute_result"
    }
   ],
   "source": [
    "# 极差：max - min\n",
    "np.ptp(data)"
   ]
  },
  {
   "cell_type": "markdown",
   "metadata": {},
   "source": [
    "## 偏差程度：z-score"
   ]
  },
  {
   "cell_type": "code",
   "execution_count": 83,
   "metadata": {
    "collapsed": false
   },
   "outputs": [
    {
     "data": {
      "text/plain": [
       "-1.5937596074725793"
      ]
     },
     "execution_count": 83,
     "metadata": {},
     "output_type": "execute_result"
    }
   ],
   "source": [
    "(data[0]-np.mean(data))/np.std(data)"
   ]
  },
  {
   "cell_type": "markdown",
   "metadata": {},
   "source": [
    "## 相关程度：协方差、相关系数"
   ]
  },
  {
   "cell_type": "code",
   "execution_count": 84,
   "metadata": {
    "collapsed": false
   },
   "outputs": [
    {
     "data": {
      "text/plain": [
       "array([[ 176.46660894,  181.60703757,  164.93877381],\n",
       "       [  68.96023943,   71.63883975,   59.77025262]])"
      ]
     },
     "execution_count": 84,
     "metadata": {},
     "output_type": "execute_result"
    }
   ],
   "source": [
    "data = np.array([heights, weights])\n",
    "data[0:3,0:3]"
   ]
  },
  {
   "cell_type": "code",
   "execution_count": 85,
   "metadata": {
    "collapsed": false
   },
   "outputs": [
    {
     "data": {
      "text/plain": [
       "array([[ 35.772577  ,  24.98916744],\n",
       "       [ 24.98916744,  18.46135924]])"
      ]
     },
     "execution_count": 85,
     "metadata": {},
     "output_type": "execute_result"
    }
   ],
   "source": [
    "# 协方差\n",
    "np.cov(data, bias=1)"
   ]
  },
  {
   "cell_type": "code",
   "execution_count": 86,
   "metadata": {
    "collapsed": false
   },
   "outputs": [
    {
     "data": {
      "text/plain": [
       "array([[ 1.        ,  0.97239975],\n",
       "       [ 0.97239975,  1.        ]])"
      ]
     },
     "execution_count": 86,
     "metadata": {},
     "output_type": "execute_result"
    }
   ],
   "source": [
    "# 相关系数\n",
    "np.corrcoef(data)"
   ]
  },
  {
   "cell_type": "code",
   "execution_count": 95,
   "metadata": {
    "collapsed": false
   },
   "outputs": [
    {
     "data": {
      "text/plain": [
       "(0.97239974611120328, 0.0)"
      ]
     },
     "execution_count": 95,
     "metadata": {},
     "output_type": "execute_result"
    }
   ],
   "source": [
    "# 皮尔逊相关系数\n",
    "from scipy.stats import pearsonr\n",
    "pearsonr(heights, weights)"
   ]
  },
  {
   "cell_type": "markdown",
   "metadata": {},
   "source": [
    "# 画图分析"
   ]
  },
  {
   "cell_type": "code",
   "execution_count": 87,
   "metadata": {
    "collapsed": true
   },
   "outputs": [],
   "source": [
    "import matplotlib.pyplot as plt\n",
    "import seaborn as sns\n",
    "%matplotlib inline"
   ]
  },
  {
   "cell_type": "code",
   "execution_count": 88,
   "metadata": {
    "collapsed": false
   },
   "outputs": [
    {
     "data": {
      "image/png": "[encoded data removed]",
      "text/plain": [
       "<matplotlib.figure.Figure at 0xbe73a70>"
      ]
     },
     "metadata": {},
     "output_type": "display_data"
    }
   ],
   "source": [
    "#绘制柱状图\n",
    "def drawBar(grades):\n",
    "    xticks = ['A', 'B', 'C', 'D', 'E']\n",
    "    gradeGroup = {}\n",
    "    #对每一类成绩进行频数统计\n",
    "    for grade in grades:\n",
    "        gradeGroup[grade] = gradeGroup.get(grade, 0) + 1\n",
    "        \n",
    "    #创建柱状图\n",
    "    #第一个参数为柱的横坐标\n",
    "    #第二个参数为柱的高度\n",
    "    #参数align为柱的对齐方式，以第一个参数为参考标准\n",
    "    x = range(5)\n",
    "    y = [gradeGroup.get(tic, 0) for tic in xticks]\n",
    "    plt.bar(x, y, align='center')\n",
    "\n",
    "    #设置柱的文字说明\n",
    "    #第一个参数为文字说明的横坐标\n",
    "    #第二个参数为文字说明的内容\n",
    "    plt.xticks(x, xticks)\n",
    "\n",
    "    #设置横坐标的文字说明\n",
    "    plt.xlabel('Grade')\n",
    "    #设置纵坐标的文字说明\n",
    "    plt.ylabel('Frequency')\n",
    "    #设置标题\n",
    "    plt.title('Grades Of Male Students')\n",
    "    #绘图\n",
    "    plt.show()\n",
    "\n",
    "drawBar(grades)"
   ]
  },
  {
   "cell_type": "code",
   "execution_count": 89,
   "metadata": {
    "collapsed": false
   },
   "outputs": [
    {
     "data": {
      "image/png": "[encoded data removed]",
      "text/plain": [
       "<matplotlib.figure.Figure at 0xcb5b4b0>"
      ]
     },
     "metadata": {},
     "output_type": "display_data"
    }
   ],
   "source": [
    "#绘制饼形图\n",
    "def drawPie(grades):\n",
    "    labels = ['A', 'B', 'C', 'D', 'E']\n",
    "    gradeGroup = {}\n",
    "    for x in labels:\n",
    "        gradeGroup[x] = np.sum(grades==x)\n",
    "        \n",
    "    #创建饼形图\n",
    "    #第一个参数为扇形的面积\n",
    "    #labels参数为扇形的说明文字\n",
    "    #autopct参数为扇形占比的显示格式\n",
    "    x = [gradeGroup.get(label, 0) for label in labels]\n",
    "    plt.pie(x, labels=labels, autopct='%1.1f%%')\n",
    "    plt.title('Grades Of Male Students')\n",
    "    plt.show()\n",
    "\n",
    "drawPie(grades)"
   ]
  },
  {
   "cell_type": "code",
   "execution_count": 90,
   "metadata": {
    "collapsed": false
   },
   "outputs": [
    {
     "data": {
      "image/png": "[encoded data removed]",
      "text/plain": [
       "<matplotlib.figure.Figure at 0xbf42350>"
      ]
     },
     "metadata": {},
     "output_type": "display_data"
    }
   ],
   "source": [
    "#绘制直方图\n",
    "def drawHist(heights):\n",
    "    #创建直方图\n",
    "    #第一个参数为待绘制的定量数据，不同于定性数据，这里并没有事先进行频数统计\n",
    "    #第二个参数为划分的区间个数\n",
    "    plt.hist(heights, 100)\n",
    "    plt.xlabel('Heights')\n",
    "    plt.ylabel('Frequency')\n",
    "    plt.title('Heights Of Male Students')\n",
    "    plt.show()\n",
    "\n",
    "drawHist(heights)"
   ]
  },
  {
   "cell_type": "code",
   "execution_count": 91,
   "metadata": {
    "collapsed": false
   },
   "outputs": [
    {
     "data": {
      "image/png": "[encoded data removed]",
      "text/plain": [
       "<matplotlib.figure.Figure at 0xc9023d0>"
      ]
     },
     "metadata": {},
     "output_type": "display_data"
    }
   ],
   "source": [
    "#绘制累积曲线\n",
    "def drawCumulativeHist(heights):\n",
    "    #创建累积曲线\n",
    "    #第一个参数为待绘制的定量数据\n",
    "    #第二个参数为划分的区间个数\n",
    "    #normed参数为是否无量纲化\n",
    "    #histtype参数为'step'，绘制阶梯状的曲线\n",
    "    #cumulative参数为是否累积\n",
    "    plt.hist(heights, 20, normed=True, histtype='step', cumulative=True)\n",
    "    plt.xlabel('Heights')\n",
    "    plt.ylabel('Frequency')\n",
    "    plt.title('Heights Of Male Students')\n",
    "    plt.show()\n",
    "\n",
    "drawCumulativeHist(heights)"
   ]
  },
  {
   "cell_type": "code",
   "execution_count": 92,
   "metadata": {
    "collapsed": false,
    "scrolled": false
   },
   "outputs": [
    {
     "data": {
      "image/png": "[encoded data removed]",
      "text/plain": [
       "<matplotlib.figure.Figure at 0xbaad5b0>"
      ]
     },
     "metadata": {},
     "output_type": "display_data"
    }
   ],
   "source": [
    "#绘制散点图\n",
    "def drawScatter(heights, weights):\n",
    "    #创建散点图\n",
    "    #第一个参数为点的横坐标\n",
    "    #第二个参数为点的纵坐标\n",
    "    plt.scatter(heights, weights)\n",
    "    plt.xlabel('Heights')\n",
    "    plt.ylabel('Weights')\n",
    "    plt.title('Heights & Weights Of Male Students')\n",
    "    plt.show()\n",
    "\n",
    "drawScatter(heights, weights)"
   ]
  },
  {
   "cell_type": "code",
   "execution_count": 93,
   "metadata": {
    "collapsed": false
   },
   "outputs": [
    {
     "data": {
      "image/png": "[encoded data removed]",
      "text/plain": [
       "<matplotlib.figure.Figure at 0xbf23bf0>"
      ]
     },
     "metadata": {},
     "output_type": "display_data"
    }
   ],
   "source": [
    "#绘制箱形图\n",
    "def drawBox(heights):\n",
    "    #创建箱形图\n",
    "    #第一个参数为待绘制的定量数据\n",
    "    #第二个参数为数据的文字说明\n",
    "    plt.boxplot([heights], labels=['Heights'])\n",
    "    plt.title('Heights Of Male Students')\n",
    "    plt.show()\n",
    "\n",
    "drawBox(heights)"
   ]
  }
 ],
 "metadata": {
  "kernelspec": {
   "display_name": "Python [Root]",
   "language": "python",
   "name": "Python [Root]"
  },
  "language_info": {
   "codemirror_mode": {
    "name": "ipython",
    "version": 2
   },
   "file_extension": ".py",
   "mimetype": "text/x-python",
   "name": "python",
   "nbconvert_exporter": "python",
   "pygments_lexer": "ipython2",
   "version": "2.7.12"
  }
 },
 "nbformat": 4,
 "nbformat_minor": 0
}
